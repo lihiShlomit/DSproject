{
  "nbformat": 4,
  "nbformat_minor": 0,
  "metadata": {
    "colab": {
      "provenance": [],
      "gpuType": "T4",
      "authorship_tag": "ABX9TyMqy4KSb6h7IE4hu3vEcYDO",
      "include_colab_link": true
    },
    "kernelspec": {
      "name": "python3",
      "display_name": "Python 3"
    },
    "language_info": {
      "name": "python"
    },
    "accelerator": "GPU"
  },
  "cells": [
    {
      "cell_type": "markdown",
      "metadata": {
        "id": "view-in-github",
        "colab_type": "text"
      },
      "source": [
        "<a href=\"https://colab.research.google.com/github/lihiShlomit/DSproject/blob/main/testModel.ipynb\" target=\"_parent\"><img src=\"https://colab.research.google.com/assets/colab-badge.svg\" alt=\"Open In Colab\"/></a>"
      ]
    },
    {
      "cell_type": "code",
      "execution_count": 1,
      "metadata": {
        "colab": {
          "base_uri": "https://localhost:8080/"
        },
        "id": "3SeIRr6fMGox",
        "outputId": "0438d861-96fe-4a47-9ab2-aafa85967ab5"
      },
      "outputs": [
        {
          "output_type": "stream",
          "name": "stdout",
          "text": [
            "/content\n",
            "fatal: destination path 'yolov5' already exists and is not an empty directory.\n",
            "activations.py\t  callbacks.py\t  general.py\t     metrics.py      triton.py\n",
            "augmentations.py  dataloaders.py  google_app_engine  plots.py\n",
            "autoanchor.py\t  docker\t  __init__.py\t     __pycache__\n",
            "autobatch.py\t  downloads.py\t  loggers\t     segment\n",
            "aws\t\t  flask_rest_api  loss.py\t     torch_utils.py\n",
            "Drive already mounted at /content/drive; to attempt to forcibly remount, call drive.mount(\"/content/drive\", force_remount=True).\n"
          ]
        }
      ],
      "source": [
        "%cd /content\n",
        "!git clone https://github.com/ultralytics/yolov5.git\n",
        "import os\n",
        "import sys\n",
        "!ls /content/yolov5/utils/\n",
        "import sys\n",
        "sys.path.append('/content/yolov5')\n",
        "import torch\n",
        "from models.yolo import Model\n",
        "from utils.dataloaders import create_dataloader\n",
        "from utils.general import check_dataset\n",
        "from utils.torch_utils import select_device\n",
        "from utils.loss import ComputeLoss\n",
        "from pathlib import Path\n",
        "import os\n",
        "from utils.general import non_max_suppression\n",
        "from utils.metrics import bbox_iou\n",
        "import numpy as np\n",
        "from utils.metrics import ap_per_class\n",
        "from torch.utils.data import DataLoader\n",
        "from utils.dataloaders import LoadImagesAndLabels\n",
        "from google.colab import drive\n",
        "drive.mount('/content/drive')\n",
        "DATA_YAML_PATH = \"/content/drive/MyDrive/project/data/license_plates/archive/dataset.yaml\"\n",
        "data = check_dataset(DATA_YAML_PATH)\n",
        "train_path = data['train']\n",
        "val_path = data['val']\n",
        "test_path = data['test']\n",
        "nc = data['nc']"
      ]
    },
    {
      "cell_type": "code",
      "source": [
        "# שלב 1: מעבר לתיקיית YOLOv5\n",
        "%cd /content/yolov5\n",
        "\n",
        "# שלב 2: הרצת המודל רק על ה-test set\n",
        "from val import run\n",
        "\n",
        "run(\n",
        "    data='/content/drive/MyDrive/project/data/license_plates/archive/dataset.yaml',\n",
        "    weights='/content/drive/MyDrive/project/model_16_30_002_yolov5.pt',\n",
        "    imgsz=416,\n",
        "    iou_thres=0.5,\n",
        "    conf_thres=0.001,\n",
        "    device='0',  # GPU\n",
        "    task='test',  # פתרון תואם לגרסאות בלי split\n",
        "    project='runs/test_eval',\n",
        "    name='model_16_30_002'\n",
        ")\n",
        "\n"
      ],
      "metadata": {
        "colab": {
          "base_uri": "https://localhost:8080/"
        },
        "id": "sHmr6PNaSVd8",
        "outputId": "603a8814-ef5d-4026-9063-fa37d1fb8fc4"
      },
      "execution_count": 3,
      "outputs": [
        {
          "output_type": "stream",
          "name": "stderr",
          "text": [
            "YOLOv5 🚀 v7.0-423-g567c6646 Python-3.11.13 torch-2.6.0+cu124 CUDA:0 (Tesla T4, 15095MiB)\n",
            "\n",
            "Fusing layers... \n"
          ]
        },
        {
          "output_type": "stream",
          "name": "stdout",
          "text": [
            "/content/yolov5\n"
          ]
        },
        {
          "output_type": "stream",
          "name": "stderr",
          "text": [
            "YOLOv5s summary: 157 layers, 7012822 parameters, 16182 gradients, 15.8 GFLOPs\n",
            "\u001b[34m\u001b[1mtest: \u001b[0mScanning /content/drive/MyDrive/project/data/license_plates/archive/labels/test.cache... 169 images, 0 backgrounds, 0 corrupt: 100%|██████████| 169/169 [00:00<?, ?it/s]\n",
            "                 Class     Images  Instances          P          R      mAP50   mAP50-95: 100%|██████████| 6/6 [00:15<00:00,  2.62s/it]\n",
            "                   all        169        169      0.915       0.89      0.943      0.381\n",
            "Speed: 0.1ms pre-process, 8.1ms inference, 6.7ms NMS per image at shape (32, 3, 416, 416)\n",
            "Results saved to \u001b[1mruns/test_eval/model_16_30_0023\u001b[0m\n"
          ]
        },
        {
          "output_type": "execute_result",
          "data": {
            "text/plain": [
              "((np.float64(0.91487345707597),\n",
              "  np.float64(0.8903109672340441),\n",
              "  np.float64(0.9430121201993206),\n",
              "  np.float64(0.38149975775158845),\n",
              "  0.0,\n",
              "  0.0,\n",
              "  0.0),\n",
              " array([     0.3815]),\n",
              " (0.10887405576085198, 8.061119790613299, 6.739733487191285))"
            ]
          },
          "metadata": {},
          "execution_count": 3
        }
      ]
    },
    {
      "cell_type": "code",
      "source": [
        "# YOLOv5 🚀 v7.0-423-g567c6646 Python-3.11.13 torch-2.6.0+cu124 CUDA:0 (Tesla T4, 15095MiB)\n",
        "\n",
        "# Fusing layers...\n",
        "# /content/yolov5\n",
        "# YOLOv5s summary: 157 layers, 7012822 parameters, 16182 gradients, 15.8 GFLOPs\n",
        "# test: Scanning /content/drive/MyDrive/project/data/license_plates/archive/labels/test.cache... 169 images, 0 backgrounds, 0 corrupt: 100%|██████████| 169/169 [00:00<?, ?it/s]\n",
        "#                  Class     Images  Instances          P          R      mAP50   mAP50-95: 100%|██████████| 6/6 [00:15<00:00,  2.62s/it]\n",
        "#                    all        169        169      0.915       0.89      0.943      0.381\n",
        "# Speed: 0.1ms pre-process, 8.1ms inference, 6.7ms NMS per image at shape (32, 3, 416, 416)\n",
        "# Results saved to runs/test_eval/model_16_30_0023\n",
        "# ((np.float64(0.91487345707597),\n",
        "#   np.float64(0.8903109672340441),\n",
        "#   np.float64(0.9430121201993206),\n",
        "#   np.float64(0.38149975775158845),\n",
        "#   0.0,\n",
        "#   0.0,\n",
        "#   0.0),\n",
        "#  array([     0.3815]),\n",
        "#  (0.10887405576085198, 8.061119790613299, 6.739733487191285))"
      ],
      "metadata": {
        "id": "j16MidWlVc7b"
      },
      "execution_count": null,
      "outputs": []
    },
    {
      "cell_type": "code",
      "source": [
        "!mkdir -p /content/drive/MyDrive/project/test_results/\n",
        "!cp -r /content/yolov5/runs/test_eval/model_16_30_0023 /content/drive/MyDrive/project/test_results/"
      ],
      "metadata": {
        "id": "JzBapSkpUuJW"
      },
      "execution_count": 5,
      "outputs": []
    }
  ]
}