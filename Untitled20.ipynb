{
  "nbformat": 4,
  "nbformat_minor": 0,
  "metadata": {
    "colab": {
      "provenance": [],
      "include_colab_link": true
    },
    "kernelspec": {
      "name": "python3",
      "display_name": "Python 3"
    },
    "language_info": {
      "name": "python"
    }
  },
  "cells": [
    {
      "cell_type": "markdown",
      "metadata": {
        "id": "view-in-github",
        "colab_type": "text"
      },
      "source": [
        "<a href=\"https://colab.research.google.com/github/lihiShlomit/DSproject/blob/main/Untitled20.ipynb\" target=\"_parent\"><img src=\"https://colab.research.google.com/assets/colab-badge.svg\" alt=\"Open In Colab\"/></a>"
      ]
    },
    {
      "cell_type": "code",
      "source": [
        "!pip install yt-dlp moviepy\n"
      ],
      "metadata": {
        "colab": {
          "base_uri": "https://localhost:8080/"
        },
        "id": "NdUJOTZ9-SeU",
        "outputId": "750bce08-32ec-4eaa-b307-fce77ae4e780"
      },
      "execution_count": 4,
      "outputs": [
        {
          "output_type": "stream",
          "name": "stdout",
          "text": [
            "Collecting yt-dlp\n",
            "  Downloading yt_dlp-2025.6.9-py3-none-any.whl.metadata (174 kB)\n",
            "\u001b[?25l     \u001b[90m━━━━━━━━━━━━━━━━━━━━━━━━━━━━━━━━━━━━━━━━\u001b[0m \u001b[32m0.0/174.3 kB\u001b[0m \u001b[31m?\u001b[0m eta \u001b[36m-:--:--\u001b[0m\r\u001b[2K     \u001b[90m━━━━━━━━━━━━━━━━━━━━━━━━━━━━━━━━━━━━━━━\u001b[0m \u001b[32m174.3/174.3 kB\u001b[0m \u001b[31m6.2 MB/s\u001b[0m eta \u001b[36m0:00:00\u001b[0m\n",
            "\u001b[?25hRequirement already satisfied: moviepy in /usr/local/lib/python3.11/dist-packages (1.0.3)\n",
            "Requirement already satisfied: decorator<5.0,>=4.0.2 in /usr/local/lib/python3.11/dist-packages (from moviepy) (4.4.2)\n",
            "Requirement already satisfied: tqdm<5.0,>=4.11.2 in /usr/local/lib/python3.11/dist-packages (from moviepy) (4.67.1)\n",
            "Requirement already satisfied: requests<3.0,>=2.8.1 in /usr/local/lib/python3.11/dist-packages (from moviepy) (2.32.3)\n",
            "Requirement already satisfied: proglog<=1.0.0 in /usr/local/lib/python3.11/dist-packages (from moviepy) (0.1.12)\n",
            "Requirement already satisfied: numpy>=1.17.3 in /usr/local/lib/python3.11/dist-packages (from moviepy) (2.0.2)\n",
            "Requirement already satisfied: imageio<3.0,>=2.5 in /usr/local/lib/python3.11/dist-packages (from moviepy) (2.37.0)\n",
            "Requirement already satisfied: imageio-ffmpeg>=0.2.0 in /usr/local/lib/python3.11/dist-packages (from moviepy) (0.6.0)\n",
            "Requirement already satisfied: pillow>=8.3.2 in /usr/local/lib/python3.11/dist-packages (from imageio<3.0,>=2.5->moviepy) (11.2.1)\n",
            "Requirement already satisfied: charset-normalizer<4,>=2 in /usr/local/lib/python3.11/dist-packages (from requests<3.0,>=2.8.1->moviepy) (3.4.2)\n",
            "Requirement already satisfied: idna<4,>=2.5 in /usr/local/lib/python3.11/dist-packages (from requests<3.0,>=2.8.1->moviepy) (3.10)\n",
            "Requirement already satisfied: urllib3<3,>=1.21.1 in /usr/local/lib/python3.11/dist-packages (from requests<3.0,>=2.8.1->moviepy) (2.4.0)\n",
            "Requirement already satisfied: certifi>=2017.4.17 in /usr/local/lib/python3.11/dist-packages (from requests<3.0,>=2.8.1->moviepy) (2025.6.15)\n",
            "Downloading yt_dlp-2025.6.9-py3-none-any.whl (3.3 MB)\n",
            "\u001b[2K   \u001b[90m━━━━━━━━━━━━━━━━━━━━━━━━━━━━━━━━━━━━━━━━\u001b[0m \u001b[32m3.3/3.3 MB\u001b[0m \u001b[31m68.8 MB/s\u001b[0m eta \u001b[36m0:00:00\u001b[0m\n",
            "\u001b[?25hInstalling collected packages: yt-dlp\n",
            "Successfully installed yt-dlp-2025.6.9\n"
          ]
        }
      ]
    },
    {
      "cell_type": "code",
      "source": [
        "from google.colab import drive\n",
        "drive.mount('/content/drive')"
      ],
      "metadata": {
        "colab": {
          "base_uri": "https://localhost:8080/"
        },
        "id": "bS8P3FXUOb-1",
        "outputId": "eafdd5c5-ad9a-45e9-988f-cbea6d3cd275"
      },
      "execution_count": 2,
      "outputs": [
        {
          "output_type": "stream",
          "name": "stdout",
          "text": [
            "Mounted at /content/drive\n"
          ]
        }
      ]
    },
    {
      "cell_type": "code",
      "source": [
        "import os\n",
        "\n",
        "project_dir = \"/content/drive/MyDrive/project\"\n",
        "\n",
        "video_dir = os.path.join(project_dir, \"videos\")\n",
        "\n",
        "frames_dir = os.path.join(project_dir, \"frames\")\n",
        "\n",
        "with_boxes_dir = os.path.join(project_dir, \"with_boxes\")\n",
        "\n",
        "os.makedirs(video_dir, exist_ok=True)\n",
        "\n",
        "os.makedirs(frames_dir, exist_ok=True)\n",
        "\n",
        "os.makedirs(with_boxes_dir, exist_ok=True)\n",
        ""
      ],
      "metadata": {
        "id": "LsNX739vRjqC"
      },
      "execution_count": 3,
      "outputs": []
    },
    {
      "cell_type": "code",
      "source": [
        "import os\n",
        "\n",
        "project_dir = \"/content/project\"\n",
        "os.makedirs(project_dir, exist_ok=True)"
      ],
      "metadata": {
        "id": "3fOH3LdQdGUl"
      },
      "execution_count": null,
      "outputs": []
    },
    {
      "cell_type": "code",
      "source": [
        "# @title Download video from youtube\n",
        "\n",
        "import yt_dlp\n",
        "from moviepy.editor import VideoFileClip\n",
        "from PIL import Image\n",
        "\n",
        "video_url = \"https://www.youtube.com/watch?v=tOgHFhGlZrk\"\n",
        "video1_dir = os.path.join(video_dir, \"video1\")\n",
        "os.makedirs(video1_dir, exist_ok=True)\n",
        "video_filename = \"downloaded_video.mp4\"\n",
        "video_path = os.path.join(video1_dir, video_filename)\n",
        "\n",
        "download_definition = {\n",
        "    'outtmpl': video_path,\n",
        "    'format': 'bestvideo[ext=mp4]+bestaudio[ext=m4a]/mp4',\n",
        "    'merge_output_format': 'mp4',\n",
        "    'quiet': True\n",
        "}\n",
        "\n",
        "with yt_dlp.YoutubeDL(download_definition) as youtube_download:\n",
        "    youtube_download.download([video_url])\n",
        "print(\"finished download\")\n",
        "\n",
        "\n",
        "if os.path.exists(video_path):\n",
        "    print(\"video1 already exists\")\n",
        "else:\n",
        "    download_opts = {\n",
        "        'outtmpl': video_path,\n",
        "        'format': 'bestvideo[ext=mp4]+bestaudio[ext=m4a]/mp4',\n",
        "        'merge_output_format': 'mp4',\n",
        "        'quiet': True\n",
        "    }\n",
        "    with yt_dlp.YoutubeDL(download_opts) as ydl:\n",
        "        ydl.download([video_url])\n",
        "    print(\"The video was downloaded\")"
      ],
      "metadata": {
        "colab": {
          "base_uri": "https://localhost:8080/"
        },
        "id": "DMQDHZrD-YuZ",
        "outputId": "0f792a92-2c5d-4c99-efaa-6ae43884f340"
      },
      "execution_count": 6,
      "outputs": [
        {
          "output_type": "stream",
          "name": "stdout",
          "text": [
            "finished download\n",
            "video1 already exists\n"
          ]
        }
      ]
    },
    {
      "cell_type": "code",
      "source": [
        "# @title Extract frames from video\n",
        "\n",
        "clip = VideoFileClip(video_path)\n",
        "frame_rate = clip.fps #\n",
        "duration = clip.duration\n",
        "frame_count = int(duration * frame_rate)\n",
        "frames_dir = os.path.join(video1_dir, \"frames\")\n",
        "os.makedirs(frames_dir, exist_ok=True)\n",
        "\n",
        "for i in range(frame_count):\n",
        "    frame_time = i / frame_rate\n",
        "    frame = clip.get_frame(frame_time)\n",
        "    frame_path = os.path.join(frames_dir, f\"frame_{i:05d}.jpg\")\n",
        "    Image.fromarray(frame).save(frame_path)\n",
        "\n",
        "print(f\"finished extraction\")\n"
      ],
      "metadata": {
        "colab": {
          "base_uri": "https://localhost:8080/"
        },
        "id": "Sh2Za7cyYup1",
        "outputId": "833a6986-3c18-48a8-faa2-af6201e0ca5d"
      },
      "execution_count": null,
      "outputs": [
        {
          "output_type": "stream",
          "name": "stderr",
          "text": [
            "WARNING:py.warnings:/usr/local/lib/python3.11/dist-packages/moviepy/video/io/ffmpeg_reader.py:123: UserWarning: Warning: in file /content/project/video1/downloaded_video.mp4, 11059200 bytes wanted but 0 bytes read,at frame 4272/4274, at time 178.18/178.24 sec. Using the last valid frame instead.\n",
            "  warnings.warn(\"Warning: in file %s, \"%(self.filename)+\n",
            "\n"
          ]
        },
        {
          "output_type": "stream",
          "name": "stdout",
          "text": [
            "finished extraction\n"
          ]
        }
      ]
    },
    {
      "cell_type": "code",
      "source": [
        "!pip install -q ultralytics opencv-python"
      ],
      "metadata": {
        "id": "vcAtGFwl_do8"
      },
      "execution_count": null,
      "outputs": []
    },
    {
      "cell_type": "code",
      "source": [
        "# @title Create bounding boxes around the cars\n",
        "\n",
        "\n",
        "import os\n",
        "import cv2\n",
        "from ultralytics import YOLO\n",
        "\n",
        "frames_with_boxes_dir = os.path.join(video1_dir, \"with_boxes\")\n",
        "os.makedirs(frames_with_boxes_dir, exist_ok=True)\n",
        "\n",
        "model = YOLO(\"yolov8n.pt\")  # YOLO is the model used for marking the cars\n",
        "\n",
        "for filename in sorted(os.listdir(frames_dir)):\n",
        "    if filename.endswith(\".jpg\"):\n",
        "        path = os.path.join(frames_dir, filename)\n",
        "        image = cv2.imread(path)\n",
        "\n",
        "        results = model.predict(image, verbose=False)[0]\n",
        "\n",
        "        for box in results.boxes:\n",
        "            cls_id = int(box.cls[0])\n",
        "            label = model.names[cls_id]\n",
        "            if label == \"car\":\n",
        "                x1, y1, x2, y2 = map(int, box.xyxy[0])\n",
        "                cv2.rectangle(image, (x1, y1), (x2, y2), (0, 255, 0), 2)\n",
        "                #TODO: add the license plate's number at the end (OCR)\n",
        "\n",
        "        output_path = os.path.join(frames_with_boxes_dir, filename)\n",
        "        cv2.imwrite(output_path, image)\n",
        "\n",
        "print(f\"all cars marked\")"
      ],
      "metadata": {
        "colab": {
          "base_uri": "https://localhost:8080/"
        },
        "id": "3yS5ewQ2_otC",
        "outputId": "905cd45a-86b8-4221-f323-edaa570f3756"
      },
      "execution_count": null,
      "outputs": [
        {
          "output_type": "stream",
          "name": "stdout",
          "text": [
            "all cars marked\n"
          ]
        }
      ]
    },
    {
      "cell_type": "code",
      "source": [
        "# @title Combine frames into a video\n",
        "\n",
        "images = sorted([f for f in os.listdir(frames_with_boxes_dir) if f.endswith(\".jpg\")])\n",
        "frame = cv2.imread(os.path.join(frames_with_boxes_dir, images[0]))\n",
        "height, width, _ = frame.shape\n",
        "\n",
        "video_with_boxes_path = os.path.join(video1_dir, \"video_with_boxes.mp4\")\n",
        "out = cv2.VideoWriter(video_with_boxes_path, cv2.VideoWriter_fourcc(*\"mp4v\"), 25, (width, height))\n",
        "\n",
        "for image in images:\n",
        "    frame = cv2.imread(os.path.join(frames_with_boxes_dir, image))\n",
        "    out.write(frame)\n",
        "out.release()\n",
        "\n",
        "print(f\"finished creating a video\")"
      ],
      "metadata": {
        "colab": {
          "base_uri": "https://localhost:8080/"
        },
        "id": "jJAWGC1PXQa9",
        "outputId": "c7f968ec-3031-4563-f911-c956fc7711b6"
      },
      "execution_count": null,
      "outputs": [
        {
          "output_type": "stream",
          "name": "stdout",
          "text": [
            "finished creating a video\n"
          ]
        }
      ]
    },
    {
      "cell_type": "code",
      "source": [
        "!ls -lh /content/project/video1/video_with_boxes.mp4"
      ],
      "metadata": {
        "colab": {
          "base_uri": "https://localhost:8080/"
        },
        "id": "BQ6CnOpGsyw3",
        "outputId": "f2063554-eccb-4e9b-c926-941cc7e172ba"
      },
      "execution_count": null,
      "outputs": [
        {
          "output_type": "stream",
          "name": "stdout",
          "text": [
            "-rw-r--r-- 1 root root 780M Jun 18 11:03 /content/project/video1/video_with_boxes.mp4\n"
          ]
        }
      ]
    },
    {
      "cell_type": "code",
      "source": [
        "from IPython.display import Video, display\n",
        "\n",
        "display(Video(video_with_boxes_path, embed=True, width=640))"
      ],
      "metadata": {
        "id": "bVNtv2ZIZUJG"
      },
      "execution_count": null,
      "outputs": []
    }
  ]
}