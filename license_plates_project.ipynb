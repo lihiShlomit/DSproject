{
  "nbformat": 4,
  "nbformat_minor": 0,
  "metadata": {
    "colab": {
      "provenance": [],
      "gpuType": "T4",
      "include_colab_link": true
    },
    "kernelspec": {
      "name": "python3",
      "display_name": "Python 3"
    },
    "language_info": {
      "name": "python"
    },
    "accelerator": "GPU"
  },
  "cells": [
    {
      "cell_type": "markdown",
      "metadata": {
        "id": "view-in-github",
        "colab_type": "text"
      },
      "source": [
        "<a href=\"https://colab.research.google.com/github/lihiShlomit/DSproject/blob/main/license_plates_project.ipynb\" target=\"_parent\"><img src=\"https://colab.research.google.com/assets/colab-badge.svg\" alt=\"Open In Colab\"/></a>"
      ]
    },
    {
      "cell_type": "code",
      "source": [
        "# @title Connecting to google drive\n",
        "\n",
        "from google.colab import drive\n",
        "drive.mount('/content/drive')"
      ],
      "metadata": {
        "id": "bS8P3FXUOb-1"
      },
      "execution_count": null,
      "outputs": []
    },
    {
      "cell_type": "code",
      "source": [
        "# @title Setting directories\n",
        "\n",
        "import os\n",
        "import re\n",
        "\n",
        "project_dir = \"/content/drive/MyDrive/project\"\n",
        "\n",
        "videos_dir = os.path.join(project_dir, \"videos\")\n",
        "\n",
        "frames_dir = os.path.join(project_dir, \"frames\")\n",
        "\n",
        "with_boxes_dir = os.path.join(project_dir, \"with_boxes\")\n",
        "\n",
        "os.makedirs(videos_dir, exist_ok=True)\n",
        "\n",
        "os.makedirs(frames_dir, exist_ok=True)\n",
        "\n",
        "os.makedirs(with_boxes_dir, exist_ok=True)"
      ],
      "metadata": {
        "id": "LsNX739vRjqC"
      },
      "execution_count": null,
      "outputs": []
    },
    {
      "cell_type": "code",
      "source": [
        "# @title Creating a directory for the new video\n",
        "\n",
        "existing_videos = []\n",
        "for name in os.listdir(videos_dir):\n",
        "    match = re.match(r\"video(\\d+)$\", name)\n",
        "    if match and os.path.isdir(os.path.join(videos_dir, name)):\n",
        "        existing_videos.append(int(match.group(1)))\n",
        "\n",
        "if existing_videos:\n",
        "    next_number = max(existing_videos) + 1\n",
        "else:\n",
        "    next_number = 1\n",
        "\n",
        "new_dir_name = f\"video{next_number}\"\n",
        "video_dir = os.path.join(videos_dir, new_dir_name)\n",
        "os.makedirs(video_dir, exist_ok=True)"
      ],
      "metadata": {
        "id": "8zE9ZHZQnrPt"
      },
      "execution_count": null,
      "outputs": []
    },
    {
      "cell_type": "code",
      "source": [
        "# @title Needed imports for uploading a video\n",
        "\n",
        "import os\n",
        "import shutil\n",
        "from google.colab import files\n",
        "from moviepy.editor import VideoFileClip\n",
        "from PIL import Image\n",
        "\n",
        "video_filename = \"video.mp4\"\n",
        "video_path = os.path.join(video_dir, \"video.mp4\")"
      ],
      "metadata": {
        "id": "JfIwe5zytoXL"
      },
      "execution_count": null,
      "outputs": []
    },
    {
      "cell_type": "code",
      "source": [
        "# @title Upload a video\n",
        "\n",
        "uploaded = files.upload()\n",
        "for filename in uploaded.keys():\n",
        "    shutil.move(filename, video_path)\n",
        "print(f\"Video uploaded to: {video_path}\")"
      ],
      "metadata": {
        "id": "DMQDHZrD-YuZ",
        "collapsed": true
      },
      "execution_count": null,
      "outputs": []
    },
    {
      "cell_type": "code",
      "source": [
        "# @title Needed imports and settings to extract frames from videos\n",
        "\n",
        "from moviepy.editor import VideoFileClip\n",
        "from PIL import Image\n",
        "\n",
        "clip = VideoFileClip(video_path)\n",
        "frame_rate = clip.fps\n",
        "duration = clip.duration\n",
        "frame_count = int(duration * frame_rate)\n",
        "frames_dir = os.path.join(video_dir, \"frames\")\n",
        "os.makedirs(frames_dir, exist_ok=True)"
      ],
      "metadata": {
        "id": "fmXxuUL4s4Ht"
      },
      "execution_count": null,
      "outputs": []
    },
    {
      "cell_type": "code",
      "source": [
        "# @title Extract frames from video\n",
        "\n",
        "for i in range(frame_count):\n",
        "    frame_time = i / frame_rate\n",
        "    frame = clip.get_frame(frame_time)\n",
        "    frame_path = os.path.join(frames_dir, f\"frame_{i:05d}.jpg\")\n",
        "    Image.fromarray(frame).save(frame_path)\n",
        "\n",
        "print(f\"finished extraction\")"
      ],
      "metadata": {
        "id": "Sh2Za7cyYup1",
        "collapsed": true
      },
      "execution_count": null,
      "outputs": []
    },
    {
      "cell_type": "code",
      "source": [
        "# @title needed installations\n",
        "\n",
        "!pip install -q ultralytics opencv-python"
      ],
      "metadata": {
        "id": "vcAtGFwl_do8",
        "collapsed": true
      },
      "execution_count": null,
      "outputs": []
    },
    {
      "cell_type": "code",
      "source": [
        "# @title Cloning and installing yolov5\n",
        "\n",
        "!git clone https://github.com/ultralytics/yolov5.git\n",
        "%cd yolov5\n",
        "!pip install -r requirements.txt"
      ],
      "metadata": {
        "id": "j8nrQs6sS0wv",
        "collapsed": true
      },
      "execution_count": null,
      "outputs": []
    },
    {
      "cell_type": "code",
      "source": [
        "# @title imports for marking a bounding box\n",
        "\n",
        "import torch\n",
        "import os\n",
        "import cv2\n",
        "from pathlib import Path"
      ],
      "metadata": {
        "id": "14s-WHm6S27H"
      },
      "execution_count": null,
      "outputs": []
    },
    {
      "cell_type": "code",
      "source": [
        "# @title Function that creates bounding boxes around the license plates\n",
        "\n",
        "def plot_one_box(x, img, color=(128, 128, 128), label=None, line_thickness=4):\n",
        "    tl = line_thickness or int(round(0.002 * max(img.shape[0:2])))\n",
        "    x1, y1, x2, y2 = map(int, x)\n",
        "    cv2.rectangle(img, (x1, y1), (x2, y2), color, thickness=tl, lineType=cv2.LINE_AA)\n",
        "    if label:\n",
        "        tf = max(tl - 1, 1)\n",
        "        font_scale = 0.5\n",
        "        t_size = cv2.getTextSize(label, 0, fontScale=font_scale, thickness=tf)[0]\n",
        "        c2 = x1 + t_size[0], y1 - t_size[1] - 3\n",
        "        cv2.rectangle(img, (x1, y1), c2, color, -1, cv2.LINE_AA)\n",
        "        cv2.putText(img, label, (x1, y1 - 2), 0, font_scale, [255, 255, 255], thickness=tf, lineType=cv2.LINE_AA)"
      ],
      "metadata": {
        "id": "CNeWY6_RnId_"
      },
      "execution_count": null,
      "outputs": []
    },
    {
      "cell_type": "code",
      "source": [
        "# @title Imports and settings for Identifying cars with yolov5\n",
        "\n",
        "frames_with_boxes_dir = os.path.join(video_dir, \"with_boxes\")\n",
        "os.makedirs(frames_with_boxes_dir, exist_ok=True)\n",
        "\n",
        "model = torch.hub.load('ultralytics/yolov5', 'yolov5s', pretrained=True)\n",
        "\n",
        "cars_crops_dir = os.path.join(video_dir, \"cars_crops\")\n",
        "os.makedirs(cars_crops_dir, exist_ok=True)"
      ],
      "metadata": {
        "id": "IOnLiz175J5N",
        "collapsed": true
      },
      "execution_count": null,
      "outputs": []
    },
    {
      "cell_type": "code",
      "source": [
        "# @title Identifying cars and creating bounding boxes around them\n",
        "\n",
        "frames_with_boxes_dir = os.path.join(video_dir, \"with_boxes\")\n",
        "os.makedirs(frames_with_boxes_dir, exist_ok=True)\n",
        "\n",
        "model = torch.hub.load('ultralytics/yolov5', 'yolov5s', pretrained=True)\n",
        "\n",
        "cars_crops_dir = os.path.join(video_dir, \"cars_crops\")\n",
        "os.makedirs(cars_crops_dir, exist_ok=True)\n",
        "\n",
        "count=0\n",
        "for filename in sorted(os.listdir(frames_dir)):\n",
        "    if filename.endswith(\".jpg\"):\n",
        "        img_path = os.path.join(frames_dir, filename)\n",
        "        img = cv2.imread(img_path)\n",
        "\n",
        "        results = model(img)\n",
        "\n",
        "        car_count = 0\n",
        "        for *box, conf, cls in results.xyxy[0].tolist():\n",
        "            cls = int(cls)\n",
        "            label = results.names[cls]\n",
        "            if label == \"car\":\n",
        "                x1, y1, x2, y2 = map(int, box)\n",
        "                car_crop = img[y1:y2, x1:x2]\n",
        "                crop_filename = f\"{os.path.splitext(filename)[0]}_car{car_count}.jpg\"\n",
        "                crop_path = os.path.join(cars_crops_dir, crop_filename)\n",
        "                cv2.imwrite(crop_path, car_crop)\n",
        "\n",
        "                car_count += 1\n",
        "\n",
        "        for *box, conf, cls in results.xyxy[0].tolist():\n",
        "            cls = int(cls)\n",
        "            label = results.names[cls]\n",
        "            if label == \"car\":\n",
        "                x1, y1, x2, y2 = map(int, box)\n",
        "                cv2.rectangle(img, (x1, y1), (x2, y2), (0, 255, 0), 2)\n",
        "\n",
        "        output_path = os.path.join(frames_with_boxes_dir, filename)\n",
        "        cv2.imwrite(output_path, img)\n",
        "\n",
        "print(f\"all cars marked\")"
      ],
      "metadata": {
        "id": "3yS5ewQ2_otC",
        "collapsed": true
      },
      "execution_count": null,
      "outputs": []
    },
    {
      "cell_type": "code",
      "source": [
        "# @title Loading the fine-tuned model, that identifies license plates\n",
        "\n",
        "lp_model = torch.hub.load('ultralytics/yolov5', 'custom', path='/content/drive/MyDrive/project/license_plates_model.pt')"
      ],
      "metadata": {
        "id": "p_9VNy4aPWEJ",
        "collapsed": true
      },
      "execution_count": null,
      "outputs": []
    },
    {
      "cell_type": "code",
      "source": [
        "# @title Installations to allow use of OCR\n",
        "\n",
        "!apt-get install -y tesseract-ocr\n",
        "!pip install pytesseract"
      ],
      "metadata": {
        "id": "l9dsKYFxuXEa",
        "collapsed": true
      },
      "execution_count": null,
      "outputs": []
    },
    {
      "cell_type": "code",
      "source": [
        "# @title Imports for placing bound boxes\n",
        "\n",
        "import os\n",
        "import cv2\n",
        "import pytesseract\n",
        "import re\n",
        "\n",
        "license_plates_with_boxes_dir = os.path.join(video_dir, \"license_plates_with_boxes\")\n",
        "os.makedirs(license_plates_with_boxes_dir, exist_ok=True)\n",
        "\n",
        "video3_frames = os.path.join(video_dir, \"frames\")"
      ],
      "metadata": {
        "id": "_o3xRoWhEmXJ"
      },
      "execution_count": null,
      "outputs": []
    },
    {
      "cell_type": "code",
      "source": [
        "# @title Identifing license plates, place bounding boxes around them and around the cars in the origional pictures, and run OCR on them\n",
        "\n",
        "car_count = 0\n",
        "\n",
        "for filename in sorted(os.listdir(video3_frames)):\n",
        "    if filename.endswith(\".jpg\") or filename.endswith(\".png\"):\n",
        "        img_path = os.path.join(video3_frames, filename)\n",
        "        img = cv2.imread(img_path)\n",
        "        if img is None:\n",
        "            continue\n",
        "\n",
        "        img_h, img_w = img.shape[:2]\n",
        "        results = model(img)\n",
        "        car_count = 0\n",
        "\n",
        "        for *box, conf, cls in results.xyxy[0].tolist():\n",
        "            cls = int(cls)\n",
        "            label = results.names[cls]\n",
        "            if label == \"car\":\n",
        "                x1, y1, x2, y2 = map(int, box)\n",
        "\n",
        "                # car boundries\n",
        "                x1 = max(0, min(img_w, x1))\n",
        "                x2 = max(0, min(img_w, x2))\n",
        "                y1 = max(0, min(img_h, y1))\n",
        "                y2 = max(0, min(img_h, y2))\n",
        "\n",
        "                if x2 <= x1 or y2 <= y1:\n",
        "                    continue\n",
        "\n",
        "                car_crop = img[y1:y2, x1:x2]\n",
        "                if car_crop.size == 0:\n",
        "                    continue\n",
        "\n",
        "                lp_results = lp_model(car_crop)\n",
        "                ch, cw = car_crop.shape[:2]\n",
        "\n",
        "                for *lp_box, lp_conf, lp_cls in lp_results.xyxy[0].tolist():\n",
        "                    lx1, ly1, lx2, ly2 = map(int, lp_box)\n",
        "\n",
        "                    # plate boundries\n",
        "                    lx1 = max(0, min(cw, lx1))\n",
        "                    lx2 = max(0, min(cw, lx2))\n",
        "                    ly1 = max(0, min(ch, ly1))\n",
        "                    ly2 = max(0, min(ch, ly2))\n",
        "\n",
        "                    if lx2 <= lx1 or ly2 <= ly1:\n",
        "                        continue\n",
        "\n",
        "                    license_plate_crop = car_crop[ly1:ly2, lx1:lx2]\n",
        "                    if license_plate_crop.size == 0:\n",
        "                        continue\n",
        "\n",
        "                    raw_text = pytesseract.image_to_string(license_plate_crop, config='--psm 7').strip()\n",
        "                    lp_text = re.sub(r'[^0-9]', '', raw_text).strip()\n",
        "\n",
        "                    #prevent the ocr from identifying a part of the plate as the number on it\n",
        "                    if len(lp_text) > 8 and lp_text.startswith(\"1\"):\n",
        "                        lp_text = lp_text[1:]\n",
        "\n",
        "                    abs_lx1 = x1 + lx1\n",
        "                    abs_ly1 = y1 + ly1\n",
        "                    abs_lx2 = x1 + lx2\n",
        "                    abs_ly2 = y1 + ly2\n",
        "\n",
        "                    cv2.rectangle(img, (abs_lx1, abs_ly1), (abs_lx2, abs_ly2), (0, 255, 255), 2)\n",
        "                    cv2.putText(img, lp_text, (abs_lx1, abs_ly1 - 10), cv2.FONT_HERSHEY_SIMPLEX,\n",
        "                                0.8, (0, 255, 255), 2, lineType=cv2.LINE_AA)\n",
        "\n",
        "                plot_one_box([x1, y1, x2, y2], img, label=label, color=(0, 255, 0), line_thickness=4)\n",
        "                car_count += 1\n",
        "\n",
        "        output_path = os.path.join(license_plates_with_boxes_dir, filename)\n",
        "        cv2.imwrite(output_path, img)\n",
        "\n",
        "print(\"All frames processed and saved with license plates and texts.\")\n"
      ],
      "metadata": {
        "collapsed": true,
        "id": "BrCs3G1AVdGT"
      },
      "execution_count": null,
      "outputs": []
    },
    {
      "cell_type": "code",
      "source": [
        "# @title Combine frames into a video\n",
        "\n",
        "from moviepy.editor import VideoFileClip\n",
        "video_path = os.path.join(video_dir, video_filename)\n",
        "clip = VideoFileClip(video_path)\n",
        "\n",
        "from moviepy.editor import ImageSequenceClip\n",
        "import os\n",
        "\n",
        "frames_with_boxes_dir = license_plates_with_boxes_dir\n",
        "\n",
        "frame_files = sorted([os.path.join(frames_with_boxes_dir, f)\n",
        "                      for f in os.listdir(frames_with_boxes_dir)\n",
        "                      if f.endswith(\".jpg\") or f.endswith(\".png\")])\n",
        "\n",
        "fps = clip.fps\n",
        "video_clip = ImageSequenceClip(frame_files, fps=fps)\n",
        "\n",
        "output_video_path = os.path.join(video_dir, \"output_with_boxes.mp4\")\n",
        "video_clip.write_videofile(output_video_path, codec=\"libx264\")\n"
      ],
      "metadata": {
        "id": "jJAWGC1PXQa9",
        "collapsed": true
      },
      "execution_count": null,
      "outputs": []
    },
    {
      "cell_type": "code",
      "source": [
        "# @title Presenting the video\n",
        "\n",
        "from IPython.display import Video, display\n",
        "\n",
        "display(Video(output_video_path, embed=True, width=640))"
      ],
      "metadata": {
        "id": "bVNtv2ZIZUJG",
        "collapsed": true
      },
      "execution_count": null,
      "outputs": []
    }
  ]
}